{
 "cells": [
  {
   "cell_type": "markdown",
   "metadata": {},
   "source": [
    "Individual Household Electric power consumption\n",
    "This project indicates the various consumption of electrical energy in an individual household and the potential heavy consumer of electrical energy within the household. The project uses data from UC Irvne Machine learning Repository, one of the famous repository for machine learning datasets. We will be using the “Individual Household electric power consumption Data Set”.\n",
    "The Measurement of the electric power consumption in one household with a one- minute sampling rate over a period of almost 4 years. Different electrical quantities and some sub-metering values are available. This data represents a structured multivariate time series of power related variables which has real attribute characteristics. The data is a multivariate series comprised of seven variables, which are:\n",
    "•\tGlobal_Active_power\n",
    "•\tGlobal_Reactive_power\n",
    "•\t Voltage\n",
    "•\tGlobal_Intensity\n",
    "•\tSub_metering_1\n",
    "•\tSub_metering_2\n",
    "•\tSub_metering_3\n",
    "The Active energy is the real power consumed by the household, whereas the reactive energy is the unused power in the lines. The data provides the active power as well as some of the division of the active power by the main circuit in the house.\n",
    "\n",
    "Data Acquisition\n",
    "The data was extracted from the UC Irvne Machine learning Repository\n",
    "\n",
    "Data Dictionary\n",
    "Name \tData Type\tDescription\n",
    "DateTime\tDateTime \t\n",
    "Global_Active_power \tFloat\thousehold global minute-averaged active power (in kilowatt)\n",
    "Global_Reactive_Power\tFloat\thousehold global minute-averaged reactive power (in kilowatt)\n",
    "Voltage\tFloat\tminute-averaged voltage (in volt)\n",
    "Global_Intensity\tFloat\thousehold global minute-averaged current intensity (in ampere)\n",
    "Sub_Metering_1\tFloat\tenergy sub-metering No. 1 (in watt-hour of active energy). It corresponds to the kitchen, containing mainly a dishwasher, an oven and a microwave (hot plates are not electric but gas powered).\n",
    "Sub_Metering_2\tFloat\t energy sub-metering No. 2 (in watt-hour of active energy). It corresponds to the laundry room, containing a washing-machine, a tumble-drier, a refrigerator and a light.\n",
    "Sub_Metering_3\tFloat\tenergy sub-metering No. 3 (in watt-hour of active energy). It corresponds to an electric water-heater and an air-conditioner.\n"
   ]
  }
 ],
 "metadata": {
  "kernelspec": {
   "display_name": "Python 3",
   "language": "python",
   "name": "python3"
  },
  "language_info": {
   "codemirror_mode": {
    "name": "ipython",
    "version": 3
   },
   "file_extension": ".py",
   "mimetype": "text/x-python",
   "name": "python",
   "nbconvert_exporter": "python",
   "pygments_lexer": "ipython3",
   "version": "3.7.0"
  }
 },
 "nbformat": 4,
 "nbformat_minor": 4
}
